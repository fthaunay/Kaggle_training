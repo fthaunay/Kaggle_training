{
 "cells": [
  {
   "cell_type": "code",
   "execution_count": 1,
   "metadata": {
    "collapsed": true
   },
   "outputs": [],
   "source": [
    "import pandas as pd\n",
    "import numpy as np\n",
    "from sklearn.feature_extraction.text import TfidfVectorizer\n",
    "from nltk.tokenize import regexp_tokenize\n",
    "from nltk.stem.porter import PorterStemmer\n",
    "import time\n",
    "from scipy.sparse import csr_matrix"
   ]
  },
  {
   "cell_type": "code",
   "execution_count": 2,
   "metadata": {},
   "outputs": [
    {
     "name": "stdout",
     "output_type": "stream",
     "text": [
      "[9.972500085830688] Finished to load train/test\n"
     ]
    }
   ],
   "source": [
    "start_time = time.time()\n",
    "train = pd.read_csv(\"input/train.tsv\", sep='\\t')\n",
    "train = train[:10000]\n",
    "test = pd.read_csv(\"input/test.tsv\", sep='\\t')\n",
    "test = test[:10000]\n",
    "print('[{}] Finished to load train/test'.format(time.time() - start_time))"
   ]
  },
  {
   "cell_type": "code",
   "execution_count": 3,
   "metadata": {},
   "outputs": [
    {
     "name": "stdout",
     "output_type": "stream",
     "text": [
      "[0.1830000877380371] Finished to replace NaN\n"
     ]
    }
   ],
   "source": [
    "def clean_missing(df):\n",
    "    df[\"category_name\"] = df[\"category_name\"].replace(np.NaN, \"\")\n",
    "    df[\"brand_name\"] = df[\"brand_name\"].replace(np.NaN, \"\")\n",
    "    df[\"item_description\"] = df[\"item_description\"].replace(np.NaN, \"\")\n",
    "    df[\"item_description\"] = df[\"item_description\"].replace(np.NaN, \"\")\n",
    "    return df\n",
    "\n",
    "start_time = time.time()\n",
    "train = clean_missing(train)\n",
    "test = clean_missing(test)\n",
    "\n",
    "print('[{}] Finished to replace NaN'.format(time.time() - start_time))\n"
   ]
  },
  {
   "cell_type": "code",
   "execution_count": 4,
   "metadata": {},
   "outputs": [
    {
     "name": "stdout",
     "output_type": "stream",
     "text": [
      "[0.12099981307983398] Finished to transform category_name\n"
     ]
    }
   ],
   "source": [
    "def split_cat(text):\n",
    "    if text.count('/') > 1:\n",
    "        return text.split(\"/\")\n",
    "    else:\n",
    "        return ([\"No Label\", \"No Label\", \"No Label\"])\n",
    "\n",
    "def transform_category_name(df):\n",
    "    df['general_cat'], df['subcat_1'], df['subcat_2'] = \\\n",
    "    zip(*df['category_name'].apply(lambda x: split_cat(x)))\n",
    "    return df\n",
    "\n",
    "start_time = time.time()\n",
    "train = transform_category_name(train)\n",
    "test = transform_category_name(test)\n",
    "\n",
    "print('[{}] Finished to transform category_name'.format(time.time() - start_time))"
   ]
  },
  {
   "cell_type": "code",
   "execution_count": 5,
   "metadata": {
    "collapsed": true
   },
   "outputs": [],
   "source": [
    "stop_words = []\n",
    "def stem_tokenize(text, stop_words=stop_words):\n",
    "    stemmer = PorterStemmer()\n",
    "    tokens = regexp_tokenize(text, pattern=r\"[A-Za-z]\\w+\")\n",
    "    tokens_wo_sw = [x for x in tokens if x not in stop_words and len(x) > 3]\n",
    "    tokens_stemmed = [stemmer.stem(x) for x in tokens_wo_sw]\n",
    "    return tokens_stemmed\n",
    "\n"
   ]
  },
  {
   "cell_type": "code",
   "execution_count": 8,
   "metadata": {},
   "outputs": [
    {
     "name": "stdout",
     "output_type": "stream",
     "text": [
      "(10000, 530)\n",
      "(10000, 530)\n",
      "(10000, 530)\n",
      "(10000, 530)\n",
      "(10000, 530)\n",
      "(10000, 530)\n",
      "(10000, 530)\n",
      "(10000, 530)\n",
      "(10000, 530)\n",
      "(10000, 530)\n"
     ]
    }
   ],
   "source": [
    "# category_name :\n",
    "for xmax in range (50, 100, 5):\n",
    "    tfidf_vectorizer = TfidfVectorizer(tokenizer=stem_tokenize, decode_error='ignore', strip_accents='unicode', max_df=xmax/100.0, min_df=0)\n",
    "    X = tfidf_vectorizer.fit_transform(train[\"category_name\"])\n",
    "    print(X.shape)"
   ]
  },
  {
   "cell_type": "code",
   "execution_count": 15,
   "metadata": {},
   "outputs": [
    {
     "name": "stdout",
     "output_type": "stream",
     "text": [
      "xmin : 1, words : 530\n",
      "xmin : 6, words : 286\n",
      "xmin : 11, words : 236\n",
      "xmin : 16, words : 203\n",
      "xmin : 21, words : 172\n",
      "xmin : 26, words : 160\n"
     ]
    }
   ],
   "source": [
    "for xmin in range (1, 30, 5):\n",
    "    tfidf_vectorizer = TfidfVectorizer(tokenizer=stem_tokenize, decode_error='ignore', strip_accents='unicode', max_df=1.0, min_df=xmin)\n",
    "    X = tfidf_vectorizer.fit_transform(train[\"category_name\"])\n",
    "    print(\"xmin : \" + str(xmin) + \", words : \" + str(X.shape[1]))"
   ]
  },
  {
   "cell_type": "code",
   "execution_count": null,
   "metadata": {
    "collapsed": true
   },
   "outputs": [],
   "source": [
    "tfidf_vectorizer = TfidfVectorizer(tokenizer=stem_tokenize, decode_error='ignore', strip_accents='unicode', max_df=1.0, min_df=5)\n",
    "X = tfidf_vectorizer.fit_transform(train[\"category_name\"])\n",
    "y = train[\"\"]"
   ]
  },
  {
   "cell_type": "code",
   "execution_count": null,
   "metadata": {
    "collapsed": true
   },
   "outputs": [],
   "source": [
    "from sklearn.svm import SVC\n",
    "from sklearn.metrics import classification_report, f1_score\n",
    "\n",
    "#df_sel = df_mod[df_mod['categories'].isin(sel_classes)]\n",
    "train_data,test_data = train_test_split(df_mod, test_size=0.2)\n",
    "vn = VectorizeNotes()\n",
    "X,y = vn.fit(train_data, sel_classes)\n",
    "clf = SVC(C=1. , kernel='linear')\n",
    "clf.fit(X,y)"
   ]
  },
  {
   "cell_type": "code",
   "execution_count": null,
   "metadata": {
    "collapsed": true
   },
   "outputs": [],
   "source": [
    "from sklearn.metrics.pairwise import cosine_similarity\n",
    "sims = cosine_similarity(X)\n",
    "sns.set_context(\"talk\")\n",
    "sns.heatmap(sims, xticklabels=False, yticklabels=False)\n",
    "plt.show()"
   ]
  }
 ],
 "metadata": {
  "kernelspec": {
   "display_name": "py36",
   "language": "python",
   "name": "py36"
  },
  "language_info": {
   "codemirror_mode": {
    "name": "ipython",
    "version": 3
   },
   "file_extension": ".py",
   "mimetype": "text/x-python",
   "name": "python",
   "nbconvert_exporter": "python",
   "pygments_lexer": "ipython3",
   "version": "3.6.2"
  }
 },
 "nbformat": 4,
 "nbformat_minor": 2
}
